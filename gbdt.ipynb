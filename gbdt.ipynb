{
 "cells": [
  {
   "attachments": {},
   "cell_type": "markdown",
   "metadata": {},
   "source": [
    "# HEAPML Project\n",
    "## Gradient Boosted Decision Tree"
   ]
  },
  {
   "cell_type": "code",
   "execution_count": null,
   "metadata": {},
   "outputs": [],
   "source": [
    "### GENERAL IMPORTS ###\n",
    "import numpy as np\n",
    "import pandas as pd\n",
    "from tqdm.notebook import tqdm\n",
    "import matplotlib.pyplot as plt\n",
    "\n",
    "### PYMATGEN/MATMINER IMPORTS ###\n",
    "from matminer.featurizers import composition as cf\n",
    "from matminer.featurizers.base import MultipleFeaturizer\n",
    "\n",
    "### SKLEARN IMPORTS ###\n",
    "from sklearn.ensemble import GradientBoostingClassifier\n",
    "from sklearn.model_selection import KFold, cross_val_score, train_test_split, RepeatedStratifiedKFold\n",
    "from sklearn.inspection import permutation_importance\n",
    "from sklearn.metrics import accuracy_score, precision_score, recall_score, f1_score, confusion_matrix\n",
    "\n",
    "### SKOMPTOMIZE IMPORTS ###\n",
    "from skopt.space import Real, Integer\n",
    "from skopt.utils import use_named_args\n",
    "from skopt import gp_minimize\n",
    "from skopt.plots import plot_convergence"
   ]
  },
  {
   "attachments": {},
   "cell_type": "markdown",
   "metadata": {},
   "source": [
    "### 1. Import Featurized Data"
   ]
  },
  {
   "cell_type": "code",
   "execution_count": null,
   "metadata": {},
   "outputs": [],
   "source": [
    "feature_calculators = MultipleFeaturizer([cf.Stoichiometry(), cf.ElementProperty.from_preset('magpie')])\n",
    "feature_labels = feature_calculators.feature_labels()\n",
    "\n",
    "alloys = pd.read_csv('./data/featurized_alloys.csv')\n",
    "\n",
    "display(alloys)"
   ]
  },
  {
   "attachments": {},
   "cell_type": "markdown",
   "metadata": {},
   "source": [
    "### 2. Generate Dataset\n",
    "*Note: the formula, phase and composition_obj columns are removed from $X$*"
   ]
  },
  {
   "cell_type": "code",
   "execution_count": null,
   "metadata": {},
   "outputs": [],
   "source": [
    "x_cols = [c for c in alloys.columns if c not in ['formula', 'phase', 'composition_obj']]\n",
    "\n",
    "y = alloys['phase'].values\n",
    "X = alloys[x_cols]\n",
    "\n",
    "X_train, X_test, y_train, y_test = train_test_split(X, y, test_size=0.33, random_state=0, stratify=y)\n",
    "\n",
    "display(X)"
   ]
  },
  {
   "attachments": {},
   "cell_type": "markdown",
   "metadata": {},
   "source": [
    "### 3. Train Model"
   ]
  },
  {
   "cell_type": "code",
   "execution_count": null,
   "metadata": {},
   "outputs": [],
   "source": [
    "gbdt = GradientBoostingClassifier(random_state=0)\n",
    "\n",
    "gbdt.fit(X_train, y_train)"
   ]
  },
  {
   "attachments": {},
   "cell_type": "markdown",
   "metadata": {},
   "source": [
    "### 4. Evaluate Model"
   ]
  },
  {
   "cell_type": "code",
   "execution_count": null,
   "metadata": {},
   "outputs": [],
   "source": [
    "y_pred = gbdt.predict(X_test)\n",
    "\n",
    "print('Precision: %.6f' % precision_score(y_test, y_pred, average='macro'))\n",
    "print('Recall: %.6f' % recall_score(y_test, y_pred, average='macro'))\n",
    "print('F1: %.6f' % f1_score(y_test, y_pred, average='macro'))"
   ]
  },
  {
   "attachments": {},
   "cell_type": "markdown",
   "metadata": {},
   "source": [
    "### 5. Feature Selection"
   ]
  },
  {
   "cell_type": "code",
   "execution_count": null,
   "metadata": {},
   "outputs": [],
   "source": [
    "permutation_importance = permutation_importance(gbdt, X_train, y_train, n_repeats=20, random_state=0, scoring='accuracy', n_jobs=-1)\n",
    "\n",
    "p_i = sorted(zip(feature_labels, permutation_importance.importances_mean), key=lambda x: x[1], reverse=True)\n",
    "p_i = pd.DataFrame(p_i, columns=['Label', 'Mean Score'])\n",
    "\n",
    "display(p_i)"
   ]
  },
  {
   "cell_type": "code",
   "execution_count": null,
   "metadata": {},
   "outputs": [],
   "source": [
    "f1_scores = []\n",
    "precision_scores = []\n",
    "recall_scores = []\n",
    "\n",
    "for feature_count in range(1, 139):\n",
    "    feature_selection = p_i['Label'].head(feature_count).values\n",
    "\n",
    "    x_cols = [c for c in alloys.columns if c in feature_selection]\n",
    "\n",
    "    y = alloys['phase'].values\n",
    "    X = alloys[x_cols]\n",
    "\n",
    "    X_train, X_test, y_train, y_test = train_test_split(X, y, test_size=0.33, random_state=0, stratify=y)\n",
    "\n",
    "    gbdt = GradientBoostingClassifier(random_state=0)\n",
    "\n",
    "    gbdt.fit(X_train, y_train)\n",
    "\n",
    "    y_pred = gbdt.predict(X_test)\n",
    "\n",
    "    f1_scores.append(f1_score(y_test, y_pred, average='macro'))\n",
    "    precision_scores.append(precision_score(y_test, y_pred, average='macro'))\n",
    "    recall_scores.append(recall_score(y_test, y_pred, average='macro'))\n",
    "\n",
    "print(f1_scores)\n",
    "print(precision_scores)\n",
    "print(recall_scores)"
   ]
  },
  {
   "attachments": {},
   "cell_type": "markdown",
   "metadata": {},
   "source": [
    "### 6. Regenerate Dataset"
   ]
  },
  {
   "cell_type": "code",
   "execution_count": null,
   "metadata": {},
   "outputs": [],
   "source": [
    "feature_count = 18\n",
    "\n",
    "feature_selection = p_i['Label'].head(feature_count).values\n",
    "\n",
    "x_cols = [c for c in alloys.columns if c in feature_selection]\n",
    "\n",
    "y = alloys['phase'].values\n",
    "X = alloys[x_cols]\n",
    "\n",
    "X_train, X_test, y_train, y_test = train_test_split(X, y, test_size=0.33, random_state=0)\n",
    "\n",
    "display(X)\n",
    "for feature in feature_selection:\n",
    "    print(feature)"
   ]
  },
  {
   "attachments": {},
   "cell_type": "markdown",
   "metadata": {},
   "source": [
    "### 7. Retrain Model"
   ]
  },
  {
   "cell_type": "code",
   "execution_count": null,
   "metadata": {},
   "outputs": [],
   "source": [
    "gbdt = GradientBoostingClassifier(random_state=0)\n",
    "\n",
    "gbdt.fit(X_train, y_train)"
   ]
  },
  {
   "attachments": {},
   "cell_type": "markdown",
   "metadata": {},
   "source": [
    "### 8. Re-evaluate Model"
   ]
  },
  {
   "cell_type": "code",
   "execution_count": null,
   "metadata": {},
   "outputs": [],
   "source": [
    "y_pred = gbdt.predict(X_test)\n",
    "\n",
    "print('Precision: %.6f' % precision_score(y_test, y_pred, average='macro'))\n",
    "print('Recall: %.6f' % recall_score(y_test, y_pred, average='macro'))\n",
    "print('F1: %.6f' % f1_score(y_test, y_pred, average='macro'))"
   ]
  }
 ],
 "metadata": {
  "kernelspec": {
   "display_name": "scripts-5BBHY0dN",
   "language": "python",
   "name": "python3"
  },
  "language_info": {
   "codemirror_mode": {
    "name": "ipython",
    "version": 3
   },
   "file_extension": ".py",
   "mimetype": "text/x-python",
   "name": "python",
   "nbconvert_exporter": "python",
   "pygments_lexer": "ipython3",
   "version": "3.11.2"
  },
  "orig_nbformat": 4
 },
 "nbformat": 4,
 "nbformat_minor": 2
}
