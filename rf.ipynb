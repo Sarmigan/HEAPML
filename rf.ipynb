{
 "cells": [
  {
   "attachments": {},
   "cell_type": "markdown",
   "metadata": {},
   "source": [
    "# HEAPML Project\n",
    "## Random Forest\n",
    "This notebook outlines the steps needed to train the RF model"
   ]
  },
  {
   "cell_type": "code",
   "execution_count": 36,
   "metadata": {},
   "outputs": [],
   "source": [
    "### GENERAL IMPORTS ###\n",
    "import numpy as np\n",
    "import pandas as pd\n",
    "import matplotlib.pyplot as plt\n",
    "\n",
    "### PYMATGEN/MATMINER IMPORTS ###\n",
    "from matminer.featurizers import composition as cf\n",
    "from matminer.featurizers.base import MultipleFeaturizer\n",
    "\n",
    "### SKLEARN IMPORTS ###\n",
    "from sklearn.ensemble import RandomForestClassifier\n",
    "from sklearn.model_selection import KFold, cross_val_score, train_test_split\n",
    "from sklearn.inspection import permutation_importance"
   ]
  },
  {
   "attachments": {},
   "cell_type": "markdown",
   "metadata": {},
   "source": [
    "### 1. Import Featurized Data"
   ]
  },
  {
   "cell_type": "code",
   "execution_count": 17,
   "metadata": {},
   "outputs": [
    {
     "name": "stdout",
     "output_type": "stream",
     "text": [
      "            formula  phase             composition_obj  0-norm    2-norm  \\\n",
      "0      AgAlCoCrCuNi      3     Ag1 Al1 Co1 Cr1 Cu1 Ni1       6  0.408248   \n",
      "1      AgCoCrFeMnNi      1     Ag1 Co1 Cr1 Fe1 Mn1 Ni1       6  0.408248   \n",
      "2  Al0.02CoCrFeMnNi      1  Al0.02 Co1 Cr1 Fe1 Mn1 Ni1       6  0.445450   \n",
      "3  Al0.03CoCrFeMnNi      1  Al0.03 Co1 Cr1 Fe1 Mn1 Ni1       6  0.444586   \n",
      "4  Al0.04CoCrFeMnNi      1  Al0.04 Co1 Cr1 Fe1 Mn1 Ni1       6  0.443735   \n",
      "\n",
      "     3-norm    5-norm    7-norm   10-norm  MagpieData minimum Number  ...  \\\n",
      "0  0.302853  0.238495  0.215285  0.199372                       13.0  ...   \n",
      "1  0.302853  0.238495  0.215285  0.199372                       24.0  ...   \n",
      "2  0.340633  0.274847  0.250697  0.233988                       13.0  ...   \n",
      "3  0.339956  0.274300  0.250199  0.233523                       13.0  ...   \n",
      "4  0.339282  0.273756  0.249702  0.233059                       13.0  ...   \n",
      "\n",
      "   MagpieData range GSmagmom  MagpieData mean GSmagmom  \\\n",
      "0                   1.548471                  0.357311   \n",
      "1                   2.110663                  0.709140   \n",
      "2                   2.110663                  0.847577   \n",
      "3                   2.110663                  0.845892   \n",
      "4                   2.110663                  0.844214   \n",
      "\n",
      "   MagpieData avg_dev GSmagmom  MagpieData mode GSmagmom  \\\n",
      "0                     0.476415                       0.0   \n",
      "1                     0.746951                       0.0   \n",
      "2                     0.782462                       0.0   \n",
      "3                     0.782246                       0.0   \n",
      "4                     0.782026                       0.0   \n",
      "\n",
      "   MagpieData minimum SpaceGroupNumber  MagpieData maximum SpaceGroupNumber  \\\n",
      "0                                194.0                                229.0   \n",
      "1                                194.0                                229.0   \n",
      "2                                194.0                                229.0   \n",
      "3                                194.0                                229.0   \n",
      "4                                194.0                                229.0   \n",
      "\n",
      "   MagpieData range SpaceGroupNumber  MagpieData mean SpaceGroupNumber  \\\n",
      "0                               35.0                        220.500000   \n",
      "1                               35.0                        219.833333   \n",
      "2                               35.0                        218.824701   \n",
      "3                               35.0                        218.836978   \n",
      "4                               35.0                        218.849206   \n",
      "\n",
      "   MagpieData avg_dev SpaceGroupNumber  MagpieData mode SpaceGroupNumber  \n",
      "0                             8.833333                             194.0  \n",
      "1                             9.555556                             194.0  \n",
      "2                            10.617292                             194.0  \n",
      "3                            10.605947                             194.0  \n",
      "4                            10.594608                             194.0  \n",
      "\n",
      "[5 rows x 141 columns]\n"
     ]
    }
   ],
   "source": [
    "feature_calculators = MultipleFeaturizer([cf.Stoichiometry(), cf.ElementProperty.from_preset('magpie')])\n",
    "feature_labels = feature_calculators.feature_labels()\n",
    "\n",
    "alloys = pd.read_csv('../data/featurized_alloys.csv')\n",
    "\n",
    "print(alloys.head())"
   ]
  },
  {
   "attachments": {},
   "cell_type": "markdown",
   "metadata": {},
   "source": [
    "### 2. Create Dataset"
   ]
  },
  {
   "cell_type": "code",
   "execution_count": 18,
   "metadata": {},
   "outputs": [
    {
     "name": "stdout",
     "output_type": "stream",
     "text": [
      "   0-norm    2-norm    3-norm    5-norm    7-norm   10-norm  \\\n",
      "0       6  0.408248  0.302853  0.238495  0.215285  0.199372   \n",
      "1       6  0.408248  0.302853  0.238495  0.215285  0.199372   \n",
      "2       6  0.445450  0.340633  0.274847  0.250697  0.233988   \n",
      "3       6  0.444586  0.339956  0.274300  0.250199  0.233523   \n",
      "4       6  0.443735  0.339282  0.273756  0.249702  0.233059   \n",
      "\n",
      "   MagpieData minimum Number  MagpieData maximum Number  \\\n",
      "0                       13.0                       47.0   \n",
      "1                       24.0                       47.0   \n",
      "2                       13.0                       28.0   \n",
      "3                       13.0                       28.0   \n",
      "4                       13.0                       28.0   \n",
      "\n",
      "   MagpieData range Number  MagpieData mean Number  ...  \\\n",
      "0                     34.0               28.000000  ...   \n",
      "1                     23.0               29.500000  ...   \n",
      "2                     15.0               25.948207  ...   \n",
      "3                     15.0               25.922465  ...   \n",
      "4                     15.0               25.896825  ...   \n",
      "\n",
      "   MagpieData range GSmagmom  MagpieData mean GSmagmom  \\\n",
      "0                   1.548471                  0.357311   \n",
      "1                   2.110663                  0.709140   \n",
      "2                   2.110663                  0.847577   \n",
      "3                   2.110663                  0.845892   \n",
      "4                   2.110663                  0.844214   \n",
      "\n",
      "   MagpieData avg_dev GSmagmom  MagpieData mode GSmagmom  \\\n",
      "0                     0.476415                       0.0   \n",
      "1                     0.746951                       0.0   \n",
      "2                     0.782462                       0.0   \n",
      "3                     0.782246                       0.0   \n",
      "4                     0.782026                       0.0   \n",
      "\n",
      "   MagpieData minimum SpaceGroupNumber  MagpieData maximum SpaceGroupNumber  \\\n",
      "0                                194.0                                229.0   \n",
      "1                                194.0                                229.0   \n",
      "2                                194.0                                229.0   \n",
      "3                                194.0                                229.0   \n",
      "4                                194.0                                229.0   \n",
      "\n",
      "   MagpieData range SpaceGroupNumber  MagpieData mean SpaceGroupNumber  \\\n",
      "0                               35.0                        220.500000   \n",
      "1                               35.0                        219.833333   \n",
      "2                               35.0                        218.824701   \n",
      "3                               35.0                        218.836978   \n",
      "4                               35.0                        218.849206   \n",
      "\n",
      "   MagpieData avg_dev SpaceGroupNumber  MagpieData mode SpaceGroupNumber  \n",
      "0                             8.833333                             194.0  \n",
      "1                             9.555556                             194.0  \n",
      "2                            10.617292                             194.0  \n",
      "3                            10.605947                             194.0  \n",
      "4                            10.594608                             194.0  \n",
      "\n",
      "[5 rows x 138 columns]\n"
     ]
    }
   ],
   "source": [
    "# Choose training columns from dataframe\n",
    "x_cols = [c for c in alloys.columns if c not in ['formula', 'phase', 'composition_obj']]\n",
    "\n",
    "y = alloys['phase'].values\n",
    "X = alloys[x_cols]\n",
    "\n",
    "print(X.head())\n",
    "\n",
    "# Split training and testing data\n",
    "X_train, X_test, y_train, y_test = train_test_split(X, y, test_size=0.33, random_state=0)"
   ]
  },
  {
   "attachments": {},
   "cell_type": "markdown",
   "metadata": {},
   "source": [
    "### 3. Train Model"
   ]
  },
  {
   "cell_type": "code",
   "execution_count": 34,
   "metadata": {},
   "outputs": [
    {
     "data": {
      "text/html": [
       "<style>#sk-container-id-2 {color: black;background-color: white;}#sk-container-id-2 pre{padding: 0;}#sk-container-id-2 div.sk-toggleable {background-color: white;}#sk-container-id-2 label.sk-toggleable__label {cursor: pointer;display: block;width: 100%;margin-bottom: 0;padding: 0.3em;box-sizing: border-box;text-align: center;}#sk-container-id-2 label.sk-toggleable__label-arrow:before {content: \"▸\";float: left;margin-right: 0.25em;color: #696969;}#sk-container-id-2 label.sk-toggleable__label-arrow:hover:before {color: black;}#sk-container-id-2 div.sk-estimator:hover label.sk-toggleable__label-arrow:before {color: black;}#sk-container-id-2 div.sk-toggleable__content {max-height: 0;max-width: 0;overflow: hidden;text-align: left;background-color: #f0f8ff;}#sk-container-id-2 div.sk-toggleable__content pre {margin: 0.2em;color: black;border-radius: 0.25em;background-color: #f0f8ff;}#sk-container-id-2 input.sk-toggleable__control:checked~div.sk-toggleable__content {max-height: 200px;max-width: 100%;overflow: auto;}#sk-container-id-2 input.sk-toggleable__control:checked~label.sk-toggleable__label-arrow:before {content: \"▾\";}#sk-container-id-2 div.sk-estimator input.sk-toggleable__control:checked~label.sk-toggleable__label {background-color: #d4ebff;}#sk-container-id-2 div.sk-label input.sk-toggleable__control:checked~label.sk-toggleable__label {background-color: #d4ebff;}#sk-container-id-2 input.sk-hidden--visually {border: 0;clip: rect(1px 1px 1px 1px);clip: rect(1px, 1px, 1px, 1px);height: 1px;margin: -1px;overflow: hidden;padding: 0;position: absolute;width: 1px;}#sk-container-id-2 div.sk-estimator {font-family: monospace;background-color: #f0f8ff;border: 1px dotted black;border-radius: 0.25em;box-sizing: border-box;margin-bottom: 0.5em;}#sk-container-id-2 div.sk-estimator:hover {background-color: #d4ebff;}#sk-container-id-2 div.sk-parallel-item::after {content: \"\";width: 100%;border-bottom: 1px solid gray;flex-grow: 1;}#sk-container-id-2 div.sk-label:hover label.sk-toggleable__label {background-color: #d4ebff;}#sk-container-id-2 div.sk-serial::before {content: \"\";position: absolute;border-left: 1px solid gray;box-sizing: border-box;top: 0;bottom: 0;left: 50%;z-index: 0;}#sk-container-id-2 div.sk-serial {display: flex;flex-direction: column;align-items: center;background-color: white;padding-right: 0.2em;padding-left: 0.2em;position: relative;}#sk-container-id-2 div.sk-item {position: relative;z-index: 1;}#sk-container-id-2 div.sk-parallel {display: flex;align-items: stretch;justify-content: center;background-color: white;position: relative;}#sk-container-id-2 div.sk-item::before, #sk-container-id-2 div.sk-parallel-item::before {content: \"\";position: absolute;border-left: 1px solid gray;box-sizing: border-box;top: 0;bottom: 0;left: 50%;z-index: -1;}#sk-container-id-2 div.sk-parallel-item {display: flex;flex-direction: column;z-index: 1;position: relative;background-color: white;}#sk-container-id-2 div.sk-parallel-item:first-child::after {align-self: flex-end;width: 50%;}#sk-container-id-2 div.sk-parallel-item:last-child::after {align-self: flex-start;width: 50%;}#sk-container-id-2 div.sk-parallel-item:only-child::after {width: 0;}#sk-container-id-2 div.sk-dashed-wrapped {border: 1px dashed gray;margin: 0 0.4em 0.5em 0.4em;box-sizing: border-box;padding-bottom: 0.4em;background-color: white;}#sk-container-id-2 div.sk-label label {font-family: monospace;font-weight: bold;display: inline-block;line-height: 1.2em;}#sk-container-id-2 div.sk-label-container {text-align: center;}#sk-container-id-2 div.sk-container {/* jupyter's `normalize.less` sets `[hidden] { display: none; }` but bootstrap.min.css set `[hidden] { display: none !important; }` so we also need the `!important` here to be able to override the default hidden behavior on the sphinx rendered scikit-learn.org. See: https://github.com/scikit-learn/scikit-learn/issues/21755 */display: inline-block !important;position: relative;}#sk-container-id-2 div.sk-text-repr-fallback {display: none;}</style><div id=\"sk-container-id-2\" class=\"sk-top-container\"><div class=\"sk-text-repr-fallback\"><pre>RandomForestClassifier()</pre><b>In a Jupyter environment, please rerun this cell to show the HTML representation or trust the notebook. <br />On GitHub, the HTML representation is unable to render, please try loading this page with nbviewer.org.</b></div><div class=\"sk-container\" hidden><div class=\"sk-item\"><div class=\"sk-estimator sk-toggleable\"><input class=\"sk-toggleable__control sk-hidden--visually\" id=\"sk-estimator-id-2\" type=\"checkbox\" checked><label for=\"sk-estimator-id-2\" class=\"sk-toggleable__label sk-toggleable__label-arrow\">RandomForestClassifier</label><div class=\"sk-toggleable__content\"><pre>RandomForestClassifier()</pre></div></div></div></div></div>"
      ],
      "text/plain": [
       "RandomForestClassifier()"
      ]
     },
     "execution_count": 34,
     "metadata": {},
     "output_type": "execute_result"
    }
   ],
   "source": [
    "# Define model using default hyperparameters and fit the model\n",
    "rf = RandomForestClassifier()\n",
    "\n",
    "# Train model\n",
    "rf.fit(X_train, y_train)"
   ]
  },
  {
   "attachments": {},
   "cell_type": "markdown",
   "metadata": {},
   "source": [
    "### 4. Evaluate Model"
   ]
  },
  {
   "cell_type": "code",
   "execution_count": 27,
   "metadata": {},
   "outputs": [
    {
     "name": "stdout",
     "output_type": "stream",
     "text": [
      "Accuracy Score: 0.7314814814814815\n",
      "CV Score: 0.8210201423071629\n"
     ]
    }
   ],
   "source": [
    "# Get accuracy scores and RMSE scores from 10-fold CV\n",
    "# Define 10-fold CV\n",
    "crossvalidation = KFold(n_splits=10, shuffle=True, random_state=0)\n",
    "\n",
    "acc_score = rf.score(X_test, y_test)\n",
    "\n",
    "cv_score = np.sqrt(abs(np.mean(cross_val_score(rf, X, y, scoring='neg_mean_squared_error', cv=crossvalidation, n_jobs=5))))\n",
    "\n",
    "print('Accuracy Score: ' + str(acc_score))\n",
    "print('CV Score: ' + str(cv_score))"
   ]
  },
  {
   "attachments": {},
   "cell_type": "markdown",
   "metadata": {},
   "source": [
    "### 5. Feature Selection"
   ]
  },
  {
   "cell_type": "code",
   "execution_count": 61,
   "metadata": {},
   "outputs": [
    {
     "name": "stdout",
     "output_type": "stream",
     "text": [
      "                              Label     Score\n",
      "0         MagpieData avg_dev Column  0.024598\n",
      "1       MagpieData mean GSvolume_pa  0.022925\n",
      "2      MagpieData range GSvolume_pa  0.022510\n",
      "3    MagpieData avg_dev GSvolume_pa  0.021393\n",
      "4          MagpieData mean NValence  0.021091\n",
      "..                              ...       ...\n",
      "133      MagpieData mean NfUnfilled  0.000000\n",
      "134   MagpieData avg_dev NfUnfilled  0.000000\n",
      "135      MagpieData mode NfUnfilled  0.000000\n",
      "136    MagpieData minimum GSbandgap  0.000000\n",
      "137     MagpieData minimum GSmagmom  0.000000\n",
      "\n",
      "[138 rows x 2 columns]\n"
     ]
    }
   ],
   "source": [
    "# Rank features using feature importance\n",
    "feature_importance = rf.feature_importances_\n",
    "\n",
    "f_i = sorted(zip(feature_labels, feature_importance), key=lambda x: x[1], reverse=True)\n",
    "f_i = pd.DataFrame(f_i, columns=['Label', 'Score'])\n",
    "\n",
    "print(f_i)"
   ]
  },
  {
   "cell_type": "code",
   "execution_count": 51,
   "metadata": {},
   "outputs": [
    {
     "name": "stdout",
     "output_type": "stream",
     "text": [
      "                                   Label  Mean Score\n",
      "0              MagpieData mean NdValence    0.019136\n",
      "1              MagpieData mean NsValence    0.017284\n",
      "2           MagpieData avg_dev NsValence    0.016667\n",
      "3                 MagpieData mean Number    0.016667\n",
      "4             MagpieData mean NpUnfilled    0.015432\n",
      "..                                   ...         ...\n",
      "133          MagpieData minimum GSmagmom    0.000000\n",
      "134          MagpieData maximum GSmagmom    0.000000\n",
      "135            MagpieData range GSmagmom    0.000000\n",
      "136  MagpieData maximum SpaceGroupNumber    0.000000\n",
      "137        MagpieData range AtomicWeight   -0.008642\n",
      "\n",
      "[138 rows x 2 columns]\n"
     ]
    }
   ],
   "source": [
    "# Rank features using permutation importance\n",
    "permutation_importance = permutation_importance(rf, X_test, y_test, n_repeats=15)\n",
    "\n",
    "p_i = sorted(zip(feature_labels, permutation_importance.importances_mean), key=lambda x: x[1], reverse=True)\n",
    "p_i = pd.DataFrame(p_i, columns=['Label', 'Mean Score'])\n",
    "\n",
    "print(p_i)"
   ]
  },
  {
   "attachments": {},
   "cell_type": "markdown",
   "metadata": {},
   "source": [
    "### 6. Create New Dataset"
   ]
  },
  {
   "cell_type": "code",
   "execution_count": 65,
   "metadata": {},
   "outputs": [],
   "source": [
    "feature_count = 10\n",
    "\n",
    "feature_selection = f_i['Label'].head(feature_count).values\n",
    "\n",
    "# Choose training columns from dataframe\n",
    "x_cols = [c for c in alloys.columns if c in feature_selection]\n",
    "\n",
    "y = alloys['phase'].values\n",
    "X = alloys[x_cols]\n",
    "\n",
    "# Split training and testing data\n",
    "X_train, X_test, y_train, y_test = train_test_split(X, y, test_size=0.33, random_state=0)"
   ]
  },
  {
   "attachments": {},
   "cell_type": "markdown",
   "metadata": {},
   "source": [
    "### 7. Retrain Model"
   ]
  },
  {
   "cell_type": "code",
   "execution_count": 66,
   "metadata": {},
   "outputs": [
    {
     "data": {
      "text/html": [
       "<style>#sk-container-id-5 {color: black;background-color: white;}#sk-container-id-5 pre{padding: 0;}#sk-container-id-5 div.sk-toggleable {background-color: white;}#sk-container-id-5 label.sk-toggleable__label {cursor: pointer;display: block;width: 100%;margin-bottom: 0;padding: 0.3em;box-sizing: border-box;text-align: center;}#sk-container-id-5 label.sk-toggleable__label-arrow:before {content: \"▸\";float: left;margin-right: 0.25em;color: #696969;}#sk-container-id-5 label.sk-toggleable__label-arrow:hover:before {color: black;}#sk-container-id-5 div.sk-estimator:hover label.sk-toggleable__label-arrow:before {color: black;}#sk-container-id-5 div.sk-toggleable__content {max-height: 0;max-width: 0;overflow: hidden;text-align: left;background-color: #f0f8ff;}#sk-container-id-5 div.sk-toggleable__content pre {margin: 0.2em;color: black;border-radius: 0.25em;background-color: #f0f8ff;}#sk-container-id-5 input.sk-toggleable__control:checked~div.sk-toggleable__content {max-height: 200px;max-width: 100%;overflow: auto;}#sk-container-id-5 input.sk-toggleable__control:checked~label.sk-toggleable__label-arrow:before {content: \"▾\";}#sk-container-id-5 div.sk-estimator input.sk-toggleable__control:checked~label.sk-toggleable__label {background-color: #d4ebff;}#sk-container-id-5 div.sk-label input.sk-toggleable__control:checked~label.sk-toggleable__label {background-color: #d4ebff;}#sk-container-id-5 input.sk-hidden--visually {border: 0;clip: rect(1px 1px 1px 1px);clip: rect(1px, 1px, 1px, 1px);height: 1px;margin: -1px;overflow: hidden;padding: 0;position: absolute;width: 1px;}#sk-container-id-5 div.sk-estimator {font-family: monospace;background-color: #f0f8ff;border: 1px dotted black;border-radius: 0.25em;box-sizing: border-box;margin-bottom: 0.5em;}#sk-container-id-5 div.sk-estimator:hover {background-color: #d4ebff;}#sk-container-id-5 div.sk-parallel-item::after {content: \"\";width: 100%;border-bottom: 1px solid gray;flex-grow: 1;}#sk-container-id-5 div.sk-label:hover label.sk-toggleable__label {background-color: #d4ebff;}#sk-container-id-5 div.sk-serial::before {content: \"\";position: absolute;border-left: 1px solid gray;box-sizing: border-box;top: 0;bottom: 0;left: 50%;z-index: 0;}#sk-container-id-5 div.sk-serial {display: flex;flex-direction: column;align-items: center;background-color: white;padding-right: 0.2em;padding-left: 0.2em;position: relative;}#sk-container-id-5 div.sk-item {position: relative;z-index: 1;}#sk-container-id-5 div.sk-parallel {display: flex;align-items: stretch;justify-content: center;background-color: white;position: relative;}#sk-container-id-5 div.sk-item::before, #sk-container-id-5 div.sk-parallel-item::before {content: \"\";position: absolute;border-left: 1px solid gray;box-sizing: border-box;top: 0;bottom: 0;left: 50%;z-index: -1;}#sk-container-id-5 div.sk-parallel-item {display: flex;flex-direction: column;z-index: 1;position: relative;background-color: white;}#sk-container-id-5 div.sk-parallel-item:first-child::after {align-self: flex-end;width: 50%;}#sk-container-id-5 div.sk-parallel-item:last-child::after {align-self: flex-start;width: 50%;}#sk-container-id-5 div.sk-parallel-item:only-child::after {width: 0;}#sk-container-id-5 div.sk-dashed-wrapped {border: 1px dashed gray;margin: 0 0.4em 0.5em 0.4em;box-sizing: border-box;padding-bottom: 0.4em;background-color: white;}#sk-container-id-5 div.sk-label label {font-family: monospace;font-weight: bold;display: inline-block;line-height: 1.2em;}#sk-container-id-5 div.sk-label-container {text-align: center;}#sk-container-id-5 div.sk-container {/* jupyter's `normalize.less` sets `[hidden] { display: none; }` but bootstrap.min.css set `[hidden] { display: none !important; }` so we also need the `!important` here to be able to override the default hidden behavior on the sphinx rendered scikit-learn.org. See: https://github.com/scikit-learn/scikit-learn/issues/21755 */display: inline-block !important;position: relative;}#sk-container-id-5 div.sk-text-repr-fallback {display: none;}</style><div id=\"sk-container-id-5\" class=\"sk-top-container\"><div class=\"sk-text-repr-fallback\"><pre>RandomForestClassifier()</pre><b>In a Jupyter environment, please rerun this cell to show the HTML representation or trust the notebook. <br />On GitHub, the HTML representation is unable to render, please try loading this page with nbviewer.org.</b></div><div class=\"sk-container\" hidden><div class=\"sk-item\"><div class=\"sk-estimator sk-toggleable\"><input class=\"sk-toggleable__control sk-hidden--visually\" id=\"sk-estimator-id-5\" type=\"checkbox\" checked><label for=\"sk-estimator-id-5\" class=\"sk-toggleable__label sk-toggleable__label-arrow\">RandomForestClassifier</label><div class=\"sk-toggleable__content\"><pre>RandomForestClassifier()</pre></div></div></div></div></div>"
      ],
      "text/plain": [
       "RandomForestClassifier()"
      ]
     },
     "execution_count": 66,
     "metadata": {},
     "output_type": "execute_result"
    }
   ],
   "source": [
    "# Define model using default hyperparameters and fit the model\n",
    "rf = RandomForestClassifier()\n",
    "\n",
    "# Train model\n",
    "rf.fit(X_train, y_train)"
   ]
  },
  {
   "attachments": {},
   "cell_type": "markdown",
   "metadata": {},
   "source": [
    "### 8. Evaluate New Model"
   ]
  },
  {
   "cell_type": "code",
   "execution_count": 67,
   "metadata": {},
   "outputs": [
    {
     "name": "stdout",
     "output_type": "stream",
     "text": [
      "Accuracy Score: 0.7014084507042253\n",
      "CV Score: 0.8501165599229172\n"
     ]
    }
   ],
   "source": [
    "# Get accuracy scores and RMSE scores from 10-fold CV\n",
    "# Define 10-fold CV\n",
    "crossvalidation = KFold(n_splits=10, shuffle=True, random_state=0)\n",
    "\n",
    "acc_score = rf.score(X_test, y_test)\n",
    "\n",
    "cv_score = np.sqrt(abs(np.mean(cross_val_score(rf, X, y, scoring='neg_mean_squared_error', cv=crossvalidation, n_jobs=5))))\n",
    "\n",
    "print('Accuracy Score: ' + str(acc_score))\n",
    "print('CV Score: ' + str(cv_score))"
   ]
  }
 ],
 "metadata": {
  "kernelspec": {
   "display_name": "scripts-5BBHY0dN",
   "language": "python",
   "name": "python3"
  },
  "language_info": {
   "codemirror_mode": {
    "name": "ipython",
    "version": 3
   },
   "file_extension": ".py",
   "mimetype": "text/x-python",
   "name": "python",
   "nbconvert_exporter": "python",
   "pygments_lexer": "ipython3",
   "version": "3.11.2"
  },
  "orig_nbformat": 4
 },
 "nbformat": 4,
 "nbformat_minor": 2
}
